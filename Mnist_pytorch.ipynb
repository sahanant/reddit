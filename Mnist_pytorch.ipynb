{
  "nbformat": 4,
  "nbformat_minor": 0,
  "metadata": {
    "colab": {
      "name": "Mnist_pytorch.ipynb",
      "version": "0.3.2",
      "provenance": [],
      "collapsed_sections": [],
      "include_colab_link": true
    },
    "language_info": {
      "codemirror_mode": {
        "name": "ipython",
        "version": 3
      },
      "file_extension": ".py",
      "mimetype": "text/x-python",
      "name": "python",
      "nbconvert_exporter": "python",
      "pygments_lexer": "ipython3",
      "version": "3.6.8"
    },
    "kernelspec": {
      "display_name": "Python 3",
      "language": "python",
      "name": "python3"
    }
  },
  "cells": [
    {
      "cell_type": "markdown",
      "metadata": {
        "id": "view-in-github",
        "colab_type": "text"
      },
      "source": [
        "<a href=\"https://colab.research.google.com/github/sahanant/reddit/blob/master/Mnist_pytorch.ipynb\" target=\"_parent\"><img src=\"https://colab.research.google.com/assets/colab-badge.svg\" alt=\"Open In Colab\"/></a>"
      ]
    },
    {
      "cell_type": "code",
      "metadata": {
        "id": "JUIxg0GknhMS",
        "colab_type": "code",
        "colab": {}
      },
      "source": [
        "import torch\n",
        "import torchvision\n",
        "import torchvision.transforms as transforms\n",
        "#image library\n",
        "import PIL"
      ],
      "execution_count": 0,
      "outputs": []
    },
    {
      "cell_type": "code",
      "metadata": {
        "id": "BH42Se9jnhMs",
        "colab_type": "code",
        "colab": {}
      },
      "source": [
        "#train_set = torchvision.datasets.FashionMNIST(root = '.data/FashionMNIST',train = True, download = True, transform= transforms.Compose([transforms.ToTensor]))\n",
        "#train_loader = torch.utils.data.DataLoader(\n",
        "\n",
        "#   train_set, batch_size = 10)\n",
        "\n",
        "\n",
        "train_loader = torch.utils.data.DataLoader(\n",
        "  torchvision.datasets.MNIST('/files/', train=True, download=True,\n",
        "                             transform=torchvision.transforms.Compose([\n",
        "                               torchvision.transforms.ToTensor(),\n",
        "                               torchvision.transforms.Normalize(\n",
        "                                 (0.1307,), (0.3081,))\n",
        "                             ])),\n",
        "  batch_size=64, shuffle=True)#here the only change is that we make use of the ToTensor() function to convert it from an object variable to a tensor"
      ],
      "execution_count": 0,
      "outputs": []
    },
    {
      "cell_type": "code",
      "metadata": {
        "id": "NCdxIsGrnhM8",
        "colab_type": "code",
        "colab": {}
      },
      "source": [
        "import numpy  as np\n",
        "import matplotlib.pyplot as plt\n",
        "\n",
        "torch.set_printoptions(linewidth = 128)"
      ],
      "execution_count": 0,
      "outputs": []
    },
    {
      "cell_type": "code",
      "metadata": {
        "id": "zqBs7uNonhNO",
        "colab_type": "code",
        "colab": {}
      },
      "source": [
        "import torch.nn as nn\n",
        "import torch.nn.functional as F"
      ],
      "execution_count": 0,
      "outputs": []
    },
    {
      "cell_type": "code",
      "metadata": {
        "id": "bc782Mx8nhNb",
        "colab_type": "code",
        "colab": {}
      },
      "source": [
        "class Network(nn.Module):\n",
        "    \n",
        "    def __init__(self):\n",
        "        \n",
        "        super(Network,self).__init__()\n",
        "        \n",
        "        self.conv1 = nn.Conv2d(in_channels = 1,out_channels = 6, kernel_size=5)\n",
        "        self.conv2 = nn.Conv2d(in_channels = 6,out_channels = 12, kernel_size=5)\n",
        "        \n",
        "        self.fc1 = nn.Linear(in_features = 12*4*4 ,out_features = 120)\n",
        "        self.fc2 = nn.Linear(in_features = 120 ,out_features = 60)\n",
        "        self.out = nn.Linear(in_features = 60 ,out_features = 10)\n",
        "        \n",
        "    def forward(self, t):\n",
        "        \n",
        "        t = self.conv1(t)\n",
        "        t = F.relu(t)\n",
        "        t = F.max_pool2d(t, kernel_size = 2, stride = 2)\n",
        "        \n",
        "        t = self.conv2(t)\n",
        "        t = F.relu(t)\n",
        "        t = F.max_pool2d(t, kernel_size = 2, stride = 2)\n",
        "        \n",
        "        t = t.reshape(-1,12*4*4)\n",
        "        t = self.fc1(t)\n",
        "        t = F.relu(t)\n",
        "        \n",
        "        t = self.fc2(t)\n",
        "        t = F.relu(t)\n",
        "        \n",
        "        t = self.out(t)\n",
        "        t = F.softmax(t, dim = 1)\n",
        "        \n",
        "        return t\n",
        "    "
      ],
      "execution_count": 0,
      "outputs": []
    },
    {
      "cell_type": "code",
      "metadata": {
        "id": "OHz0guZhnhNr",
        "colab_type": "code",
        "colab": {
          "base_uri": "https://localhost:8080/",
          "height": 136
        },
        "outputId": "20eacd1e-ce12-4742-d4c4-306ba4dc8912"
      },
      "source": [
        "network = Network()\n",
        "network"
      ],
      "execution_count": 38,
      "outputs": [
        {
          "output_type": "execute_result",
          "data": {
            "text/plain": [
              "Network(\n",
              "  (conv1): Conv2d(1, 6, kernel_size=(5, 5), stride=(1, 1))\n",
              "  (conv2): Conv2d(6, 12, kernel_size=(5, 5), stride=(1, 1))\n",
              "  (fc1): Linear(in_features=192, out_features=120, bias=True)\n",
              "  (fc2): Linear(in_features=120, out_features=60, bias=True)\n",
              "  (out): Linear(in_features=60, out_features=10, bias=True)\n",
              ")"
            ]
          },
          "metadata": {
            "tags": []
          },
          "execution_count": 38
        }
      ]
    },
    {
      "cell_type": "code",
      "metadata": {
        "id": "8lNQOhmxnhON",
        "colab_type": "code",
        "colab": {
          "base_uri": "https://localhost:8080/",
          "height": 1445
        },
        "outputId": "de20a52d-255a-47d3-aeef-d3866df36cfa"
      },
      "source": [
        "#sample = next(iter(train_set))\n",
        "#(iter(train_loader))[0]\n",
        "examples = enumerate(train_loader)#we enumerate the dataset with indices as it would help us to keep a track of the data\n",
        "batch_idx, (example_data, example_targets) = next(examples)# separation them into indx data and its value\n",
        "example_data[0]"
      ],
      "execution_count": 39,
      "outputs": [
        {
          "output_type": "execute_result",
          "data": {
            "text/plain": [
              "tensor([[[-0.4242, -0.4242, -0.4242, -0.4242, -0.4242, -0.4242, -0.4242, -0.4242, -0.4242, -0.4242, -0.4242, -0.4242, -0.4242,\n",
              "          -0.4242, -0.4242, -0.4242, -0.4242, -0.4242, -0.4242, -0.4242, -0.4242, -0.4242, -0.4242, -0.4242, -0.4242, -0.4242,\n",
              "          -0.4242, -0.4242],\n",
              "         [-0.4242, -0.4242, -0.4242, -0.4242, -0.4242, -0.4242, -0.4242, -0.4242, -0.4242, -0.4242, -0.4242, -0.4242, -0.4242,\n",
              "          -0.4242, -0.4242, -0.4242, -0.4242, -0.4242, -0.4242, -0.4242, -0.4242, -0.4242, -0.4242, -0.4242, -0.4242, -0.4242,\n",
              "          -0.4242, -0.4242],\n",
              "         [-0.4242, -0.4242, -0.4242, -0.4242, -0.4242, -0.4242, -0.4242, -0.4242, -0.4242, -0.4242, -0.4242, -0.4242, -0.4242,\n",
              "          -0.4242, -0.4242, -0.4242, -0.4242, -0.4242, -0.4242, -0.4242, -0.4242, -0.4242, -0.4242, -0.4242, -0.4242, -0.4242,\n",
              "          -0.4242, -0.4242],\n",
              "         [-0.4242, -0.4242, -0.4242, -0.4242, -0.4242, -0.4242, -0.4242, -0.4242, -0.4242, -0.4242, -0.4242, -0.4242, -0.4242,\n",
              "          -0.4242, -0.4242, -0.4242, -0.4242, -0.4242, -0.4242, -0.4242, -0.4242, -0.4242, -0.4242, -0.4242, -0.4242, -0.4242,\n",
              "          -0.4242, -0.4242],\n",
              "         [-0.4242, -0.4242, -0.4242, -0.4242, -0.4242, -0.4242, -0.4242, -0.4242, -0.4242, -0.4242, -0.4242, -0.4242, -0.4242,\n",
              "          -0.4242, -0.4242, -0.4242, -0.4242, -0.4242, -0.4242, -0.4242, -0.4242, -0.4242, -0.4242, -0.4242, -0.4242, -0.4242,\n",
              "          -0.4242, -0.4242],\n",
              "         [-0.4242, -0.4242, -0.4242, -0.4242, -0.4242, -0.4242, -0.4242, -0.4242, -0.4242, -0.4242, -0.4242, -0.4242, -0.4242,\n",
              "           0.8104,  2.4778,  2.4778,  0.7977, -0.4242, -0.4242, -0.4242, -0.4242, -0.4242, -0.4242, -0.4242, -0.4242, -0.4242,\n",
              "          -0.4242, -0.4242],\n",
              "         [-0.4242, -0.4242, -0.4242, -0.4242, -0.4242, -0.4242, -0.4242, -0.4242, -0.4242, -0.4242, -0.4242, -0.0169,  1.8414,\n",
              "           2.7451,  2.2996,  2.5542,  2.7451,  1.0141, -0.2715, -0.4242, -0.4242, -0.4242, -0.4242, -0.4242, -0.4242, -0.4242,\n",
              "          -0.4242, -0.4242],\n",
              "         [-0.4242, -0.4242, -0.4242, -0.4242, -0.4242, -0.4242, -0.4242, -0.4242, -0.4242, -0.4242,  0.2122,  2.5160,  2.7960,\n",
              "           1.8541, -0.2842,  2.0578,  2.7960,  2.7960,  1.8541, -0.2842, -0.4242, -0.4242, -0.4242, -0.4242, -0.4242, -0.4242,\n",
              "          -0.4242, -0.4242],\n",
              "         [-0.4242, -0.4242, -0.4242, -0.4242, -0.4242, -0.4242, -0.4242, -0.4242, -0.4242,  0.1613,  2.5542,  2.7960,  1.4341,\n",
              "          -0.2715, -0.4242,  0.7722,  2.6942,  2.7960,  2.7960,  1.4723, -0.4242, -0.4242, -0.4242, -0.4242, -0.4242, -0.4242,\n",
              "          -0.4242, -0.4242],\n",
              "         [-0.4242, -0.4242, -0.4242, -0.4242, -0.4242, -0.4242, -0.4242, -0.4242, -0.4242,  1.8796,  2.8088,  2.7960,  0.8613,\n",
              "          -0.4242, -0.4242, -0.4242,  1.7396,  2.2105,  2.5415,  2.7960,  0.8232, -0.4242, -0.4242, -0.4242, -0.4242, -0.4242,\n",
              "          -0.4242, -0.4242],\n",
              "         [-0.4242, -0.4242, -0.4242, -0.4242, -0.4242, -0.4242, -0.4242, -0.4242, -0.4242, -0.0042,  1.3196,  2.8088,  2.0069,\n",
              "          -0.4242, -0.4242, -0.4242, -0.4242, -0.4242,  0.1613,  2.5415,  2.4778, -0.2715, -0.4242, -0.4242, -0.4242, -0.4242,\n",
              "          -0.4242, -0.4242],\n",
              "         [-0.4242, -0.4242, -0.4242, -0.4242, -0.4242, -0.4242, -0.4242, -0.4242, -0.4242, -0.4242,  2.2360,  2.6433,  0.4286,\n",
              "          -0.4242, -0.4242, -0.4242, -0.4242, -0.4242, -0.4242,  1.2177,  2.8088,  0.4668, -0.4242, -0.4242, -0.4242, -0.4242,\n",
              "          -0.4242, -0.4242],\n",
              "         [-0.4242, -0.4242, -0.4242, -0.4242, -0.4242, -0.4242, -0.4242, -0.4242, -0.4242,  1.1541,  2.8088,  1.3577, -0.4242,\n",
              "          -0.4242, -0.4242, -0.4242, -0.4242, -0.4242, -0.4242,  0.7341,  2.8088,  1.9432, -0.4242, -0.4242, -0.4242, -0.4242,\n",
              "          -0.4242, -0.4242],\n",
              "         [-0.4242, -0.4242, -0.4242, -0.4242, -0.4242, -0.4242, -0.4242, -0.4242, -0.2333,  2.6051,  2.7324, -0.2078, -0.4242,\n",
              "          -0.4242, -0.4242, -0.4242, -0.4242, -0.4242, -0.4242,  0.7341,  2.8088,  2.0960, -0.4242, -0.4242, -0.4242, -0.4242,\n",
              "          -0.4242, -0.4242],\n",
              "         [-0.4242, -0.4242, -0.4242, -0.4242, -0.4242, -0.4242, -0.4242, -0.4242, -0.1824,  2.7960,  1.8796, -0.4242, -0.4242,\n",
              "          -0.4242, -0.4242, -0.4242, -0.4242, -0.4242, -0.4242,  0.7341,  2.8088,  2.0960, -0.4242, -0.4242, -0.4242, -0.4242,\n",
              "          -0.4242, -0.4242],\n",
              "         [-0.4242, -0.4242, -0.4242, -0.4242, -0.4242, -0.4242, -0.4242, -0.4242,  0.5559,  2.8088,  0.7468, -0.4242, -0.4242,\n",
              "          -0.4242, -0.4242, -0.4242, -0.4242, -0.4242, -0.3478,  2.1469,  2.8215,  0.6322, -0.4242, -0.4242, -0.4242, -0.4242,\n",
              "          -0.4242, -0.4242],\n",
              "         [-0.4242, -0.4242, -0.4242, -0.4242, -0.4242, -0.4242, -0.4242, -0.4242,  1.2050,  2.7960,  0.0722, -0.4242, -0.4242,\n",
              "          -0.4242, -0.4242, -0.4242, -0.4242, -0.4242,  0.4795,  2.7960,  2.2742, -0.3224, -0.4242, -0.4242, -0.4242, -0.4242,\n",
              "          -0.4242, -0.4242],\n",
              "         [-0.4242, -0.4242, -0.4242, -0.4242, -0.4242, -0.4242, -0.4242, -0.3478,  2.2105,  2.7960, -0.4242, -0.4242, -0.4242,\n",
              "          -0.4242, -0.4242, -0.4242, -0.4242, -0.0169,  2.2869,  2.7960,  0.8995, -0.4242, -0.4242, -0.4242, -0.4242, -0.4242,\n",
              "          -0.4242, -0.4242],\n",
              "         [-0.4242, -0.4242, -0.4242, -0.4242, -0.4242, -0.4242, -0.4242,  0.0467,  2.7960,  2.7960, -0.4242, -0.4242, -0.4242,\n",
              "          -0.4242, -0.4242, -0.4242, -0.3733,  1.7141,  2.7960,  2.2105, -0.1696, -0.4242, -0.4242, -0.4242, -0.4242, -0.4242,\n",
              "          -0.4242, -0.4242],\n",
              "         [-0.4242, -0.4242, -0.4242, -0.4242, -0.4242, -0.4242, -0.4242, -0.2842,  2.2996,  2.7960, -0.4242, -0.4242, -0.4242,\n",
              "          -0.4242, -0.4242, -0.4242,  1.1032,  2.7960,  1.8032, -0.1569, -0.4242, -0.4242, -0.4242, -0.4242, -0.4242, -0.4242,\n",
              "          -0.4242, -0.4242],\n",
              "         [-0.4242, -0.4242, -0.4242, -0.4242, -0.4242, -0.4242, -0.4242, -0.4242,  2.1214,  2.8088, -0.0806, -0.4242, -0.4242,\n",
              "          -0.4242, -0.4242,  0.5049,  2.7197,  2.6687,  0.0722, -0.4242, -0.4242, -0.4242, -0.4242, -0.4242, -0.4242, -0.4242,\n",
              "          -0.4242, -0.4242],\n",
              "         [-0.4242, -0.4242, -0.4242, -0.4242, -0.4242, -0.4242, -0.4242, -0.4242,  1.4468,  2.7960,  1.3832, -0.4242, -0.4242,\n",
              "          -0.4242,  0.4922,  2.7197,  2.7960,  0.6068, -0.4242, -0.4242, -0.4242, -0.4242, -0.4242, -0.4242, -0.4242, -0.4242,\n",
              "          -0.4242, -0.4242],\n",
              "         [-0.4242, -0.4242, -0.4242, -0.4242, -0.4242, -0.4242, -0.4242, -0.4242,  0.3904,  2.7960,  2.6687,  1.2686,  1.2050,\n",
              "           1.2686,  2.6687,  2.6687,  1.0141, -0.3606, -0.4242, -0.4242, -0.4242, -0.4242, -0.4242, -0.4242, -0.4242, -0.4242,\n",
              "          -0.4242, -0.4242],\n",
              "         [-0.4242, -0.4242, -0.4242, -0.4242, -0.4242, -0.4242, -0.4242, -0.4242, -0.3733,  1.0904,  2.7197,  2.7960,  2.7960,\n",
              "           2.7960,  2.7069,  0.4795, -0.4242, -0.4242, -0.4242, -0.4242, -0.4242, -0.4242, -0.4242, -0.4242, -0.4242, -0.4242,\n",
              "          -0.4242, -0.4242],\n",
              "         [-0.4242, -0.4242, -0.4242, -0.4242, -0.4242, -0.4242, -0.4242, -0.4242, -0.4242, -0.4242,  0.5049,  1.8796,  2.7960,\n",
              "           1.8796,  0.4922, -0.4242, -0.4242, -0.4242, -0.4242, -0.4242, -0.4242, -0.4242, -0.4242, -0.4242, -0.4242, -0.4242,\n",
              "          -0.4242, -0.4242],\n",
              "         [-0.4242, -0.4242, -0.4242, -0.4242, -0.4242, -0.4242, -0.4242, -0.4242, -0.4242, -0.4242, -0.4242, -0.4242, -0.4242,\n",
              "          -0.4242, -0.4242, -0.4242, -0.4242, -0.4242, -0.4242, -0.4242, -0.4242, -0.4242, -0.4242, -0.4242, -0.4242, -0.4242,\n",
              "          -0.4242, -0.4242],\n",
              "         [-0.4242, -0.4242, -0.4242, -0.4242, -0.4242, -0.4242, -0.4242, -0.4242, -0.4242, -0.4242, -0.4242, -0.4242, -0.4242,\n",
              "          -0.4242, -0.4242, -0.4242, -0.4242, -0.4242, -0.4242, -0.4242, -0.4242, -0.4242, -0.4242, -0.4242, -0.4242, -0.4242,\n",
              "          -0.4242, -0.4242],\n",
              "         [-0.4242, -0.4242, -0.4242, -0.4242, -0.4242, -0.4242, -0.4242, -0.4242, -0.4242, -0.4242, -0.4242, -0.4242, -0.4242,\n",
              "          -0.4242, -0.4242, -0.4242, -0.4242, -0.4242, -0.4242, -0.4242, -0.4242, -0.4242, -0.4242, -0.4242, -0.4242, -0.4242,\n",
              "          -0.4242, -0.4242]]])"
            ]
          },
          "metadata": {
            "tags": []
          },
          "execution_count": 39
        }
      ]
    },
    {
      "cell_type": "code",
      "metadata": {
        "id": "q6xbJlp3qJgX",
        "colab_type": "code",
        "colab": {}
      },
      "source": [
        "#example_data[0].shape\n",
        "a=np.array(example_data[0])\n",
        "a=np.squeeze(a)# initial tensor of size 1,28,28 now we reduce it to a 2d image.To see the shape of the intial tensor remove the comment above and below \n",
        "#a.shape"
      ],
      "execution_count": 0,
      "outputs": []
    },
    {
      "cell_type": "code",
      "metadata": {
        "id": "--41QBA7nhOj",
        "colab_type": "code",
        "colab": {
          "base_uri": "https://localhost:8080/",
          "height": 269
        },
        "outputId": "1a6d4be7-cce1-45cf-8a8e-6897c84b6c3d"
      },
      "source": [
        "\n",
        "plt.imshow(a)#plotting the image from a matrix\n",
        "plt.show()\n"
      ],
      "execution_count": 41,
      "outputs": [
        {
          "output_type": "display_data",
          "data": {
            "image/png": "[encoded data removed]",
            "text/plain": [
              "<Figure size 432x288 with 1 Axes>"
            ]
          },
          "metadata": {
            "tags": []
          }
        }
      ]
    },
    {
      "cell_type": "code",
      "metadata": {
        "id": "o3JoVsecqTIR",
        "colab_type": "code",
        "colab": {
          "base_uri": "https://localhost:8080/",
          "height": 34
        },
        "outputId": "7a9827a5-d422-4e5d-9f46-3d897f6cb72d"
      },
      "source": [
        "print(example_targets[0])#printing from the value of the above tensor"
      ],
      "execution_count": 43,
      "outputs": [
        {
          "output_type": "stream",
          "text": [
            "tensor(0)\n"
          ],
          "name": "stdout"
        }
      ]
    },
    {
      "cell_type": "code",
      "metadata": {
        "id": "5tO7RY-Nrzgi",
        "colab_type": "code",
        "colab": {}
      },
      "source": [
        ""
      ],
      "execution_count": 0,
      "outputs": []
    }
  ]
}